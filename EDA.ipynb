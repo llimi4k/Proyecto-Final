{
 "cells": [
  {
   "cell_type": "markdown",
   "id": "eba0c075",
   "metadata": {},
   "source": [
    "# EDA"
   ]
  },
  {
   "cell_type": "markdown",
   "id": "c1a2a51f",
   "metadata": {},
   "source": [
    "### Librerias "
   ]
  },
  {
   "cell_type": "code",
   "execution_count": null,
   "id": "50014c5a",
   "metadata": {},
   "outputs": [],
   "source": [
    "import pandas as pd\n",
    "import matplotlib.pyplot as plt\n",
    "import matplotlib.pyplot as matplotlib\n",
    "import seaborn as sns\n",
    "import numpy as np\n",
    "from tqdm import tqdm"
   ]
  },
  {
   "cell_type": "markdown",
   "id": "dc8c1d84",
   "metadata": {},
   "source": [
    "## Exploración y análisis "
   ]
  },
  {
   "cell_type": "code",
   "execution_count": null,
   "id": "dffdd2d4",
   "metadata": {},
   "outputs": [],
   "source": [
    "df = pd.read_csv(\"df_limpio.csv\")"
   ]
  },
  {
   "cell_type": "code",
   "execution_count": null,
   "id": "268d34a1",
   "metadata": {},
   "outputs": [],
   "source": [
    "datos = []\n",
    "\n",
    "# Numero de areas unicas\n",
    "area = df[\"area_name\"].nunique()\n",
    "datos.append(f\"Cantidad de areas únicas: {area}\")\n",
    "\n",
    "# Area con mas actividad\n",
    "area_fam = df[\"area_name\"].value_counts().idxmax()\n",
    "datos.append(f\"Area con mas actividad: {area_fam}\")\n",
    "             \n",
    "# Numero de inmuebles con garaje\n",
    "garaje = df[\"has_parking\"].value_counts().get(1, 0)\n",
    "datos.append(f\"Numero de inmuebles con garaje: {garaje}\")\n",
    "             \n",
    "# Tipo de transaccion mas usado\n",
    "tipot = df[\"trans_group\"].value_counts().idxmax()\n",
    "datos.append(f\"Tipo de transaccion mas comun: {tipot}\")\n",
    "             \n",
    "# Terreno mas vendido\n",
    "terr = df[\"property_type\"].value_counts().idxmax()\n",
    "datos.append(f\"Tipo de terreno mas vendido: {terr}\")\n",
    "             \n",
    "# Inmueble mas vendido \n",
    "inmu = df[\"property_sub_type\"].value_counts().idxmax()\n",
    "datos.append(f\"Inmueble mas vendido: {inmu}\")\n",
    "             \n",
    "# Precio medio del inmueble\n",
    "precio = df[\"actual_worth\"].mean().round(2)\n",
    "datos.append(f\"Precio medio del inmueble: {precio}\")\n",
    "             \n",
    "# Inmueble mas caro\n",
    "preciomax = df[\"actual_worth\"].max()\n",
    "datos.append(f\"Inmueble mas caro: {preciomax}\")\n",
    "             \n",
    "# Inmueble mas barato\n",
    "preciomin = df[\"actual_worth\"].min()\n",
    "datos.append(f\"Inmueble mas barato: {preciomin}\")\n",
    "\n",
    "# Precio medio del suelo\n",
    "suelomed = df[\"meter_sale_price\"].mean().round(2)\n",
    "datos.append(f\"Precio medio del metro de suelo: {suelomed} \")\n",
    "\n",
    "# Suelo mas caro\n",
    "suelomax = df[\"meter_sale_price\"].max()\n",
    "datos.append(f\"Suelo mas caro: {suelomax}\")\n",
    "\n",
    "# Suelo mas barato\n",
    "suelomin = df[\"meter_sale_price\"].min()\n",
    "datos.append(f\"Suelo mas barato: {suelomin}\")\n",
    "\n",
    "# Precio medio de alquiler\n",
    "alqui = df[\"rent_value\"].mean().round(2)\n",
    "datos.append(f\"Precio medio de alquiler: {alqui}\")\n",
    "             \n",
    "datos"
   ]
  },
  {
   "cell_type": "code",
   "execution_count": null,
   "id": "8f47db81",
   "metadata": {},
   "outputs": [],
   "source": [
    "df[\"rent_value\"].describe()"
   ]
  },
  {
   "cell_type": "code",
   "execution_count": null,
   "id": "e2aa06e3",
   "metadata": {},
   "outputs": [],
   "source": [
    "fait = df[\"date\"].min()\n",
    "fait"
   ]
  },
  {
   "cell_type": "code",
   "execution_count": null,
   "id": "a4f695ac",
   "metadata": {},
   "outputs": [],
   "source": [
    "df.columns"
   ]
  },
  {
   "cell_type": "code",
   "execution_count": null,
   "id": "096b2a68",
   "metadata": {},
   "outputs": [],
   "source": [
    "df.set_index(['property_usage', 'area_name'])"
   ]
  },
  {
   "cell_type": "code",
   "execution_count": null,
   "id": "b4189357",
   "metadata": {},
   "outputs": [],
   "source": [
    "df.groupby(\"property_usage\")[['area_name']].count()"
   ]
  },
  {
   "cell_type": "code",
   "execution_count": null,
   "id": "1ecaa835",
   "metadata": {},
   "outputs": [],
   "source": [
    "df.pivot(columns = \"property_usage\" ,values = 'area_name')"
   ]
  },
  {
   "cell_type": "code",
   "execution_count": null,
   "id": "b6b7cd3b",
   "metadata": {},
   "outputs": [],
   "source": [
    "df.pivot(columns = 'property_usage', values = \"meter_sale_price\")"
   ]
  },
  {
   "cell_type": "code",
   "execution_count": null,
   "id": "1a15a6d0",
   "metadata": {},
   "outputs": [],
   "source": [
    "df.pivot(columns = ['area_name'], values = \"meter_sale_price\").head(5)"
   ]
  },
  {
   "cell_type": "code",
   "execution_count": null,
   "id": "d6fb6962",
   "metadata": {},
   "outputs": [],
   "source": [
    "park_room = df.groupby(\"area_name\")[['has_parking', 'rooms']].count()"
   ]
  },
  {
   "cell_type": "code",
   "execution_count": null,
   "id": "49aea0d3",
   "metadata": {},
   "outputs": [],
   "source": [
    "park_room.head(50)"
   ]
  },
  {
   "cell_type": "code",
   "execution_count": null,
   "id": "3c0c77c7",
   "metadata": {},
   "outputs": [],
   "source": [
    "area_precios = df.groupby(\"area_name\")[['actual_worth', \"meter_sale_price\", \"rent_value\"]].mean().round(2)"
   ]
  },
  {
   "cell_type": "code",
   "execution_count": null,
   "id": "bf81fcd4",
   "metadata": {},
   "outputs": [],
   "source": [
    "area_compra = df.groupby(\"area_name\")[['actual_worth']].mean().round(2).head(5)\n",
    "area_compra"
   ]
  },
  {
   "cell_type": "code",
   "execution_count": null,
   "id": "ff52f08d",
   "metadata": {},
   "outputs": [],
   "source": [
    "zona_p = df.groupby(df['area_name'])['actual_worth'].mean()"
   ]
  },
  {
   "cell_type": "code",
   "execution_count": null,
   "id": "9d003926",
   "metadata": {},
   "outputs": [],
   "source": [
    "zona_p = zona_p.reset_index()"
   ]
  },
  {
   "cell_type": "code",
   "execution_count": null,
   "id": "eabc93f1",
   "metadata": {},
   "outputs": [],
   "source": [
    "zona_alta = zona_p.sort_values(by='actual_worth', ascending=False).head(10)"
   ]
  },
  {
   "cell_type": "code",
   "execution_count": null,
   "id": "218959c5",
   "metadata": {},
   "outputs": [],
   "source": [
    "df.shape"
   ]
  },
  {
   "cell_type": "code",
   "execution_count": null,
   "id": "06421142",
   "metadata": {},
   "outputs": [],
   "source": [
    "zona_alta.head(5)"
   ]
  },
  {
   "cell_type": "markdown",
   "id": "cbf6aaf2",
   "metadata": {},
   "source": [
    "### Gráficas área precio "
   ]
  },
  {
   "cell_type": "code",
   "execution_count": null,
   "id": "d5070ad4",
   "metadata": {},
   "outputs": [],
   "source": [
    "dd = df[[\"area_name\",\"actual_worth\"]].round(2) # Hago otro Df para graficar zona y precio del inmueble"
   ]
  },
  {
   "cell_type": "code",
   "execution_count": null,
   "id": "9b24fa30",
   "metadata": {},
   "outputs": [],
   "source": [
    "dd = dd.sort_values(by='actual_worth', ascending=False)"
   ]
  },
  {
   "cell_type": "code",
   "execution_count": null,
   "id": "1b96e134",
   "metadata": {},
   "outputs": [],
   "source": [
    "dd = dd.dropna(thresh=len(dd.columns) - 0)"
   ]
  },
  {
   "cell_type": "code",
   "execution_count": null,
   "id": "2c7996dd",
   "metadata": {},
   "outputs": [],
   "source": [
    "dd['actual_worth'] = dd['actual_worth'].astype(int)"
   ]
  },
  {
   "cell_type": "code",
   "execution_count": null,
   "id": "bae543cf",
   "metadata": {},
   "outputs": [],
   "source": [
    "dd = dd.drop([853625, 88150, 554342, 92396])"
   ]
  },
  {
   "cell_type": "code",
   "execution_count": null,
   "id": "651df384",
   "metadata": {},
   "outputs": [],
   "source": [
    "dd = dd.drop([853625, 88150, 554342, 92396])"
   ]
  },
  {
   "cell_type": "code",
   "execution_count": null,
   "id": "ce851ead",
   "metadata": {},
   "outputs": [],
   "source": [
    "ddb"
   ]
  },
  {
   "cell_type": "code",
   "execution_count": null,
   "id": "807e4000",
   "metadata": {},
   "outputs": [],
   "source": [
    "plt.barh(ddh.index, ddh[\"actual_worth\"], color= \"blue\", alpha= 0.8)\n",
    "plt.gca().invert_yaxis()\n",
    "plt.xlabel(\"Precio en millones 5mill-25mill\")\n",
    "plt.title(\"PRECIO DE INMUEBLE POR ZONAS\")\n",
    "plt.show()"
   ]
  },
  {
   "cell_type": "code",
   "execution_count": null,
   "id": "32d8953e",
   "metadata": {},
   "outputs": [],
   "source": [
    "ddt = ddb.tail(10)"
   ]
  },
  {
   "cell_type": "code",
   "execution_count": null,
   "id": "45bcfa38",
   "metadata": {},
   "outputs": [],
   "source": [
    "plt.barh(ddt.index, ddt[\"actual_worth\"], color= \"blue\", alpha= 0.8)\n",
    "plt.gca().invert_yaxis()\n",
    "plt.xlabel(\"Precio en dirhams\")\n",
    "plt.title(\"PRECIO DE INMUEBLE POR ZONAS\")\n",
    "plt.show()"
   ]
  },
  {
   "cell_type": "code",
   "execution_count": null,
   "id": "8b330825",
   "metadata": {},
   "outputs": [],
   "source": [
    "area_compra.plot()"
   ]
  },
  {
   "cell_type": "code",
   "execution_count": null,
   "id": "bd2da827",
   "metadata": {},
   "outputs": [],
   "source": [
    "area_precios.head(5)"
   ]
  },
  {
   "cell_type": "code",
   "execution_count": null,
   "id": "5ba3e4d4",
   "metadata": {},
   "outputs": [],
   "source": [
    "area_precios.plot()"
   ]
  },
  {
   "cell_type": "code",
   "execution_count": null,
   "id": "712058d1",
   "metadata": {},
   "outputs": [],
   "source": [
    "df.pivot(columns = 'property_usage', values = \"meter_sale_price\")"
   ]
  },
  {
   "cell_type": "markdown",
   "id": "f5569553",
   "metadata": {},
   "source": [
    "### Gráficas area precio alquiler"
   ]
  },
  {
   "cell_type": "code",
   "execution_count": null,
   "id": "2aedf73c",
   "metadata": {},
   "outputs": [],
   "source": [
    "dp = df[[\"area_name\",\"rent_value\"]]"
   ]
  },
  {
   "cell_type": "code",
   "execution_count": null,
   "id": "6c51a9e1",
   "metadata": {},
   "outputs": [],
   "source": [
    "dp = dp.sort_values(by='rent_value', ascending=False)"
   ]
  },
  {
   "cell_type": "code",
   "execution_count": null,
   "id": "22b98814",
   "metadata": {},
   "outputs": [],
   "source": [
    "dp = dp.dropna(thresh=len(dd.columns) - 0)"
   ]
  },
  {
   "cell_type": "code",
   "execution_count": null,
   "id": "3fa9e2c9",
   "metadata": {},
   "outputs": [],
   "source": [
    "dp"
   ]
  },
  {
   "cell_type": "code",
   "execution_count": null,
   "id": "01e07b6c",
   "metadata": {},
   "outputs": [],
   "source": [
    "dpp = dp.groupby(\"area_name\")[['rent_value']].mean().round(2)"
   ]
  },
  {
   "cell_type": "code",
   "execution_count": null,
   "id": "1199c4b2",
   "metadata": {},
   "outputs": [],
   "source": [
    "dpp = dpp.sort_values(by='rent_value', ascending=False)"
   ]
  },
  {
   "cell_type": "code",
   "execution_count": null,
   "id": "c73f555b",
   "metadata": {},
   "outputs": [],
   "source": [
    "dppa = dpp.head(10)"
   ]
  },
  {
   "cell_type": "code",
   "execution_count": null,
   "id": "ef2df99a",
   "metadata": {},
   "outputs": [],
   "source": [
    "dppb = dpp.tail(10)"
   ]
  },
  {
   "cell_type": "code",
   "execution_count": null,
   "id": "e3fa9e4d",
   "metadata": {},
   "outputs": [],
   "source": [
    "plt.barh(dppa.index, dppa[\"rent_value\"], color= \"red\", alpha= 0.8)\n",
    "plt.gca().invert_yaxis()  # Pone las columnas como en el eje Y\n",
    "plt.xlabel(\"Precio en millones de dirhams 2mill-10mill\")\n",
    "plt.title(\"PRECIO DE ALQUILER POR ZONAS\")\n",
    "plt.show()"
   ]
  },
  {
   "cell_type": "code",
   "execution_count": null,
   "id": "fc689b0f",
   "metadata": {},
   "outputs": [],
   "source": [
    "plt.barh(dppa.index, dppa[\"rent_value\"], color= \"red\", alpha= 0.8)\n",
    "plt.gca().invert_yaxis()  # Pone las columnas como en el eje Y\n",
    "plt.xlabel(\"Precio en millones de dirhams 2mill-10mill\")\n",
    "plt.title(\"PRECIO DE ALQUILER POR ZONAS\")\n",
    "plt.show()"
   ]
  },
  {
   "cell_type": "markdown",
   "id": "0da27a38",
   "metadata": {},
   "source": [
    "### Gráficas uso del inmueble"
   ]
  },
  {
   "cell_type": "code",
   "execution_count": null,
   "id": "b9e1bff9",
   "metadata": {},
   "outputs": [],
   "source": [
    "top3 = df[\"property_usage\"].value_counts().head(3)"
   ]
  },
  {
   "cell_type": "code",
   "execution_count": null,
   "id": "6d16762a",
   "metadata": {},
   "outputs": [],
   "source": [
    "plt.bar(top3.index, top3, color= \"green\", alpha= 0.8)\n",
    "plt.xlabel(\"Tipos de inmueble\")\n",
    "plt.title(\"USO DEL INMUEBLE POR STAKEHOLDERS\")\n",
    "plt.show()"
   ]
  },
  {
   "cell_type": "code",
   "execution_count": null,
   "id": "1bc70e34",
   "metadata": {},
   "outputs": [],
   "source": [
    "top4 = df[\"trans_group\"].value_counts().head(3)\n",
    "top4"
   ]
  },
  {
   "cell_type": "code",
   "execution_count": null,
   "id": "b32dae08",
   "metadata": {},
   "outputs": [],
   "source": [
    "plt.bar(top4.index, top4, color= \"green\", alpha= 0.8)\n",
    "plt.xlabel(\"Tipos de transacción\")\n",
    "plt.title(\"TRANSACCIONES STAKEHOLDERS\")\n",
    "plt.show()"
   ]
  },
  {
   "cell_type": "markdown",
   "id": "df071d67",
   "metadata": {},
   "source": [
    "### Gráficos y correlaciones "
   ]
  },
  {
   "cell_type": "code",
   "execution_count": null,
   "id": "efd26358",
   "metadata": {},
   "outputs": [],
   "source": [
    "tiempo_precio = df.groupby(df['date'].dt.year)['actual_worth'].mean()"
   ]
  },
  {
   "cell_type": "code",
   "execution_count": null,
   "id": "01c599af",
   "metadata": {},
   "outputs": [],
   "source": [
    "plt.figure(figsize=(10, 6))\n",
    "plt.plot(tiempo_precio.index, tiempo_precio.values, marker='o')\n",
    "plt.title('Tendencias Temporales en el Mercado Inmobiliario de Dubai')\n",
    "plt.xlabel('Año')\n",
    "plt.ylabel('Precio Promedio')\n",
    "plt.grid(True)\n",
    "plt.show()"
   ]
  },
  {
   "cell_type": "code",
   "execution_count": null,
   "id": "c88c596b",
   "metadata": {},
   "outputs": [],
   "source": [
    "df_numeric = df.select_dtypes(include='number')"
   ]
  },
  {
   "cell_type": "code",
   "execution_count": null,
   "id": "dd5a361e",
   "metadata": {},
   "outputs": [],
   "source": [
    "plt.figure(figsize=(15, 10))\n",
    "\n",
    "sns.set(style='white')\n",
    "\n",
    "mask=np.triu(np.ones_like(df_numeric.corr(), dtype=bool))\n",
    "\n",
    "cmap=sns.diverging_palette(0, 10, as_cmap=True)\n",
    "\n",
    "\n",
    "sns.heatmap(df_numeric.corr(),\n",
    "           mask=mask,\n",
    "          cmap=cmap,\n",
    "          center=0,\n",
    "          square=True,\n",
    "          annot=True,\n",
    "          linewidths=0.5,\n",
    "          cbar_kws={'shrink': 0.5});"
   ]
  },
  {
   "cell_type": "code",
   "execution_count": null,
   "id": "7844845c",
   "metadata": {},
   "outputs": [],
   "source": [
    "zona_p = df.groupby(df['area_name'])['actual_worth'].mean()"
   ]
  },
  {
   "cell_type": "code",
   "execution_count": null,
   "id": "3dcd1d08",
   "metadata": {},
   "outputs": [],
   "source": [
    "zona_p = zona_p.reset_index()"
   ]
  },
  {
   "cell_type": "code",
   "execution_count": null,
   "id": "ef966a5f",
   "metadata": {},
   "outputs": [],
   "source": [
    "zona_p['actual_worth'] = zona_p['actual_worth'].astype(int)"
   ]
  },
  {
   "cell_type": "code",
   "execution_count": null,
   "id": "0c491a95",
   "metadata": {},
   "outputs": [],
   "source": [
    "zona_alta = zona_p.sort_values(by='actual_worth', ascending=False).head(10)"
   ]
  },
  {
   "cell_type": "code",
   "execution_count": null,
   "id": "704d0fe1",
   "metadata": {},
   "outputs": [],
   "source": [
    "zona_alta"
   ]
  },
  {
   "cell_type": "code",
   "execution_count": null,
   "id": "d60b9e0a",
   "metadata": {},
   "outputs": [],
   "source": [
    "sns.barplot(data=zona_alta, x='area_name', y='actual_worth')\n",
    "plt.xticks(rotation=75);"
   ]
  },
  {
   "cell_type": "code",
   "execution_count": null,
   "id": "5f7bbbe5",
   "metadata": {},
   "outputs": [],
   "source": [
    "zona_baja = zona_p.sort_values(by='actual_worth', ascending=False).tail(10)"
   ]
  },
  {
   "cell_type": "code",
   "execution_count": null,
   "id": "40057e78",
   "metadata": {},
   "outputs": [],
   "source": [
    "sns.barplot(data=zona_baja, x='area_name', y='actual_worth')\n",
    "plt.xticks(rotation=75);"
   ]
  },
  {
   "cell_type": "markdown",
   "id": "bb877f30",
   "metadata": {},
   "source": [
    "### Exploración y análisis demográfico"
   ]
  },
  {
   "cell_type": "code",
   "execution_count": null,
   "id": "0c6c16cc",
   "metadata": {},
   "outputs": [],
   "source": [
    "df = pd.read_excel(\"demogmun.xlsx\")"
   ]
  },
  {
   "cell_type": "code",
   "execution_count": null,
   "id": "bfb8016b",
   "metadata": {},
   "outputs": [],
   "source": [
    "df.head(1)"
   ]
  },
  {
   "cell_type": "code",
   "execution_count": null,
   "id": "10de1977",
   "metadata": {},
   "outputs": [],
   "source": [
    "df_emiratos = df.loc[df['country_name'] == 'emiratos árabes unidos']"
   ]
  },
  {
   "cell_type": "code",
   "execution_count": null,
   "id": "f0232bb3",
   "metadata": {},
   "outputs": [],
   "source": [
    "df_emiratos"
   ]
  },
  {
   "cell_type": "code",
   "execution_count": null,
   "id": "ed4479ed",
   "metadata": {},
   "outputs": [],
   "source": [
    "#Establezco el índice como el nombre del país\n",
    "\n",
    "df.set_index('country_name', inplace=True)"
   ]
  },
  {
   "cell_type": "code",
   "execution_count": null,
   "id": "a7d7ab5d",
   "metadata": {},
   "outputs": [],
   "source": [
    "# Selecciono el país para el gráfico \n",
    "country_to_plot = 'emiratos árabes unidos'\n",
    "\n",
    "# Filtro el DataFrame para el país seleccionado\n",
    "selected_country_data = df.loc[country_to_plot]\n",
    "\n",
    "# Grafico el crecimiento poblacional para el país seleccionado\n",
    "ax = selected_country_data.plot(kind='line', marker='o')\n",
    "ax.get_yaxis().get_major_formatter().set_scientific(False)  # Desactivar la notación científica en el eje y\n",
    "plt.title('Crecimiento Poblacional en Emiratos por Año')\n",
    "plt.xlabel('Año')\n",
    "plt.ylabel('Población')\n",
    "plt.show()"
   ]
  },
  {
   "cell_type": "code",
   "execution_count": null,
   "id": "1342dbb9",
   "metadata": {},
   "outputs": [],
   "source": [
    "df1 = pd.read_csv(\"dfinmi.csv\")"
   ]
  },
  {
   "cell_type": "code",
   "execution_count": null,
   "id": "70d6cbdb",
   "metadata": {},
   "outputs": [],
   "source": [
    "df1"
   ]
  },
  {
   "cell_type": "code",
   "execution_count": null,
   "id": "b022287e",
   "metadata": {},
   "outputs": [],
   "source": [
    "df1.info()"
   ]
  },
  {
   "cell_type": "code",
   "execution_count": null,
   "id": "3317f5ff",
   "metadata": {},
   "outputs": [],
   "source": [
    "df1 = df1.sort_values(by='Fecha')"
   ]
  },
  {
   "cell_type": "code",
   "execution_count": null,
   "id": "370ea3b0",
   "metadata": {},
   "outputs": [],
   "source": [
    "plt.figure(figsize=(10, 6))\n",
    "plt.plot(df1['Fecha'], df1['Inmigrantes'], marker='o', label='Inmigrantes')\n",
    "plt.xlabel('Año')\n",
    "plt.ylabel('Número de Inmigrantes')\n",
    "plt.title('Inmigración a lo largo del tiempo')\n",
    "plt.legend()\n",
    "plt.grid(True)\n",
    "plt.show()"
   ]
  }
 ],
 "metadata": {
  "kernelspec": {
   "display_name": "Python 3 (ipykernel)",
   "language": "python",
   "name": "python3"
  },
  "language_info": {
   "codemirror_mode": {
    "name": "ipython",
    "version": 3
   },
   "file_extension": ".py",
   "mimetype": "text/x-python",
   "name": "python",
   "nbconvert_exporter": "python",
   "pygments_lexer": "ipython3",
   "version": "3.11.5"
  }
 },
 "nbformat": 4,
 "nbformat_minor": 5
}
