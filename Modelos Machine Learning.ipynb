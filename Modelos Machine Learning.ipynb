{
 "cells": [
  {
   "cell_type": "markdown",
   "id": "f7462dd3",
   "metadata": {},
   "source": [
    "# Modelos predictivos machine learning "
   ]
  },
  {
   "cell_type": "markdown",
   "id": "404f7b58",
   "metadata": {},
   "source": [
    "### Librerias "
   ]
  },
  {
   "cell_type": "code",
   "execution_count": null,
   "id": "1c96fdb0",
   "metadata": {},
   "outputs": [],
   "source": [
    "import pandas as pd"
   ]
  },
  {
   "cell_type": "code",
   "execution_count": null,
   "id": "187b5067",
   "metadata": {},
   "outputs": [],
   "source": [
    "df = pd.read_csv(\"df_limpio.csv\")"
   ]
  },
  {
   "cell_type": "code",
   "execution_count": null,
   "id": "ecd68afe",
   "metadata": {},
   "outputs": [],
   "source": [
    "from sklearn.preprocessing import StandardScaler\n",
    "from sklearn.model_selection import train_test_split as tts \n",
    "from sklearn.linear_model import LogisticRegression\n",
    "from sklearn.metrics import accuracy_score\n",
    "from sklearn.metrics import mean_squared_error as mse"
   ]
  },
  {
   "cell_type": "code",
   "execution_count": null,
   "id": "dfc4c7ed",
   "metadata": {},
   "outputs": [],
   "source": [
    "from sklearn.preprocessing import StandardScaler\n",
    "from sklearn.model_selection import train_test_split as tts \n",
    "from sklearn.linear_model import LogisticRegression\n",
    "from sklearn.metrics import accuracy_score\n",
    "from sklearn.metrics import mean_squared_error as mse"
   ]
  },
  {
   "cell_type": "code",
   "execution_count": null,
   "id": "cc90e085",
   "metadata": {},
   "outputs": [],
   "source": [
    "#Normalziar datos \n",
    "from sklearn.preprocessing import StandardScaler"
   ]
  },
  {
   "cell_type": "code",
   "execution_count": null,
   "id": "f927f3d2",
   "metadata": {},
   "outputs": [],
   "source": [
    "feature_importance = rfr.feature_importances_"
   ]
  },
  {
   "cell_type": "markdown",
   "id": "bbd53fff",
   "metadata": {},
   "source": [
    "### Modelos "
   ]
  },
  {
   "cell_type": "code",
   "execution_count": null,
   "id": "dc3a2532",
   "metadata": {},
   "outputs": [],
   "source": [
    "# Iniciar modelos \n",
    "linreg=LinReg()\n",
    "lasso=Lasso()\n",
    "ridge=Ridge()\n",
    "elastic=ElasticNet()\n",
    "svr=SVR()\n",
    "rfr=RFR()\n",
    "etr=ETR()\n",
    "gbr=GBR()\n",
    "xgbr=XGBR()\n",
    "ctr=CTR()"
   ]
  },
  {
   "cell_type": "code",
   "execution_count": null,
   "id": "6c81076b",
   "metadata": {},
   "outputs": [],
   "source": [
    "# Crear un DataFrame para visualizar las importancias\n",
    "importance_df = pd.DataFrame({'Feature': X.columns, 'Importance': feature_importance})\n",
    "\n",
    "# Ordenar el DataFrame por importancia de mayor a menor\n",
    "importance_df = importance_df.sort_values(by='Importance', ascending=False)\n",
    "\n",
    "# Visualizar la importancia de las características\n",
    "plt.figure(figsize=(12, 6))\n",
    "sns.barplot(data=importance_df, x='Importance', y='Feature')\n",
    "plt.title('Feature Importance')\n",
    "plt.show()"
   ]
  },
  {
   "cell_type": "code",
   "execution_count": null,
   "id": "31b6aea0",
   "metadata": {},
   "outputs": [],
   "source": [
    "selected_columns = ['trans_group_id', 'date', 'property_type_id', 'property_sub_type', 'property_usage', 'reg_type_id', 'area_id', 'area_name', 'nearest_landmark', 'nearest_metro', 'nearest_mall', 'rooms', 'has_parking', 'actual_worth', 'meter_sale_price', 'rent_value', 'meter_rent_price']\n",
    "\n",
    "dfdu = df[selected_columns]"
   ]
  },
  {
   "cell_type": "code",
   "execution_count": null,
   "id": "80430b1a",
   "metadata": {},
   "outputs": [],
   "source": [
    "dum = pd.get_dummies(dfdu.select_dtypes(include='object'), drop_first=True)"
   ]
  },
  {
   "cell_type": "code",
   "execution_count": null,
   "id": "4cf9f2d2",
   "metadata": {},
   "outputs": [],
   "source": [
    "dum = pd.get_dummies(dfdu, drop_first=True)"
   ]
  },
  {
   "cell_type": "code",
   "execution_count": null,
   "id": "9c8c3769",
   "metadata": {},
   "outputs": [],
   "source": [
    "dum['date'] = pd.to_numeric(dum['date'])"
   ]
  },
  {
   "cell_type": "code",
   "execution_count": null,
   "id": "2e3117a3",
   "metadata": {},
   "outputs": [],
   "source": [
    "# Establecer el umbral para dividir el DataFrame\n",
    "umbral = dum['actual_worth'].median()\n",
    "\n",
    "# Dividir el DataFrame en dos partes\n",
    "dum_a = dum.loc[dum['actual_worth'] >= umbral]\n",
    "dum_b = dum.loc[dum['actual_worth'] < umbral]"
   ]
  },
  {
   "cell_type": "code",
   "execution_count": null,
   "id": "49f62a47",
   "metadata": {},
   "outputs": [],
   "source": [
    "# Establecer los umbrales para dividir el DataFrame en tres partes\n",
    "umbral_inferior = dum['Actual_Worth'].quantile(1/3)\n",
    "umbral_superior = dum['Actual_Worth'].quantile(2/3)\n",
    "\n",
    "# Dividir el DataFrame en tres partes\n",
    "dum_parte1 = dum.loc[dum['Actual_Worth'] < umbral_inferior]\n",
    "dum_parte2 = dum.loc[(dum['Actual_Worth'] >= umbral_inferior) & (dum['Actual_Worth'] < umbral_superior)]\n",
    "dum_parte3 = dum.loc[dum['Actual_Worth'] >= umbral_superior]\n",
    "\n",
    "# Mostrar los resultados\n",
    "print(\"Parte 1 del DataFrame:\")\n",
    "print(dum_parte1)\n",
    "\n",
    "print(\"\\nParte 2 del DataFrame:\")\n",
    "print(dum_parte2)\n",
    "\n",
    "print(\"\\nParte 3 del DataFrame:\")\n",
    "print(dum_parte3)"
   ]
  },
  {
   "cell_type": "code",
   "execution_count": null,
   "id": "6674bac5",
   "metadata": {},
   "outputs": [],
   "source": [
    "dum.isna().sum()"
   ]
  },
  {
   "cell_type": "code",
   "execution_count": null,
   "id": "26e1eb95",
   "metadata": {},
   "outputs": [],
   "source": [
    "# Voy robando diferentes formas de introducir los datos para entrenar el modelo, normalizando o no, usando unas u otras \n",
    "# variables, usando getdummies o no, partiendo la tabla por segementos de precio, mirando las correlaciones, etc..."
   ]
  },
  {
   "cell_type": "code",
   "execution_count": null,
   "id": "bf9c37b6",
   "metadata": {},
   "outputs": [],
   "source": [
    "plt.figure(figsize=(15, 10))\n",
    "\n",
    "sns.set(style='white')\n",
    "\n",
    "mask=np.triu(np.ones_like(df.corr(), dtype=bool))\n",
    "\n",
    "cmap=sns.diverging_palette(0, 10, as_cmap=True)\n",
    "\n",
    "\n",
    "sns.heatmap(df.corr(),\n",
    "           mask=mask,\n",
    "          cmap=cmap,\n",
    "          center=0,\n",
    "          square=True,\n",
    "          annot=True,\n",
    "          linewidths=0.5,\n",
    "          cbar_kws={'shrink': 0.5});"
   ]
  },
  {
   "cell_type": "code",
   "execution_count": null,
   "id": "7632220c",
   "metadata": {},
   "outputs": [],
   "source": [
    "X[X.columns] = scaler.fit_transform(X)"
   ]
  },
  {
   "cell_type": "code",
   "execution_count": null,
   "id": "410bb894",
   "metadata": {},
   "outputs": [],
   "source": [
    "numeric_features = dfdu.select_dtypes(include=['float64', 'int64']).columns\n",
    "dfdu[numeric_features] = StandardScaler().fit_transform(dfdu[numeric_features])"
   ]
  },
  {
   "cell_type": "code",
   "execution_count": null,
   "id": "9f3174c4",
   "metadata": {},
   "outputs": [],
   "source": [
    "X_train, X_test, y_train, y_test = tts(X, y,\n",
    "                                      train_size=0.8,\n",
    "                                      test_size=0.2,\n",
    "                                      random_state=24)                                    \n",
    "X_train.shape, X_test.shape, y_train.shape, y_test.shape"
   ]
  },
  {
   "cell_type": "code",
   "execution_count": null,
   "id": "8a0db356",
   "metadata": {},
   "outputs": [],
   "source": [
    "# Pruebo diferentes modelos para ver cual es mas eficaz "
   ]
  },
  {
   "cell_type": "code",
   "execution_count": null,
   "id": "598540f4",
   "metadata": {},
   "outputs": [],
   "source": [
    "# Entrenar modelo\n",
    "\n",
    "# Entrenar modelo\n",
    "linreg.fit(X_train, y_train)   # sacar los betas, ajustate\n",
    "lasso.fit(X_train, y_train)\n",
    "ridge.fit(X_train, y_train)\n",
    "elastic.fit(X_train, y_train)\n",
    "svr.fit(X_train, y_train)\n",
    "rfr.fit(X_train, y_train)\n",
    "etr.fit(X_train, y_train)\n",
    "gbr.fit(X_train, y_train)\n",
    "xgbr.fit(X_train, y_train)\n",
    "ctr.fit(X_train, y_train, verbose=0)"
   ]
  },
  {
   "cell_type": "code",
   "execution_count": null,
   "id": "ec1478f9",
   "metadata": {},
   "outputs": [],
   "source": [
    "# Error cuadratico\n",
    "y_pred = linreg.predict(X_test)\n",
    "mse(y_test, y_pred, squared=False) "
   ]
  },
  {
   "cell_type": "code",
   "execution_count": null,
   "id": "704f9abd",
   "metadata": {},
   "outputs": [],
   "source": [
    "y_pred = lasso.predict(X_test)\n",
    "mse(y_test, y_pred, squared=False)"
   ]
  },
  {
   "cell_type": "code",
   "execution_count": null,
   "id": "739b9c07",
   "metadata": {},
   "outputs": [],
   "source": [
    "y_pred = ridge.predict(X_test)\n",
    "mse(y_test, y_pred, squared=False) "
   ]
  },
  {
   "cell_type": "code",
   "execution_count": null,
   "id": "cb81b859",
   "metadata": {},
   "outputs": [],
   "source": [
    "y_pred = elastic.predict(X_test)\n",
    "mse(y_test, y_pred, squared=False) "
   ]
  },
  {
   "cell_type": "code",
   "execution_count": null,
   "id": "db45efe7",
   "metadata": {},
   "outputs": [],
   "source": [
    "y_pred = svr.predict(X_test)\n",
    "mse(y_test, y_pred, squared=False) "
   ]
  },
  {
   "cell_type": "code",
   "execution_count": null,
   "id": "3c217068",
   "metadata": {},
   "outputs": [],
   "source": [
    "y_pred = rfr.predict(X_test)\n",
    "mse(y_test, y_pred, squared=False)"
   ]
  },
  {
   "cell_type": "code",
   "execution_count": null,
   "id": "0612b2f5",
   "metadata": {},
   "outputs": [],
   "source": [
    "y_pred = etr.predict(X_test)\n",
    "mse(y_test, y_pred, squared=False) "
   ]
  },
  {
   "cell_type": "code",
   "execution_count": null,
   "id": "43aa811d",
   "metadata": {},
   "outputs": [],
   "source": [
    "y_pred = gbr.predict(X_test)\n",
    "mse(y_test, y_pred, squared=False) "
   ]
  },
  {
   "cell_type": "code",
   "execution_count": null,
   "id": "827dc50e",
   "metadata": {},
   "outputs": [],
   "source": [
    "y_pred = xgbr.predict(X_test)\n",
    "mse(y_test, y_pred, squared=False) "
   ]
  },
  {
   "cell_type": "code",
   "execution_count": null,
   "id": "563fa0dc",
   "metadata": {},
   "outputs": [],
   "source": [
    "y_pred = ctr.predict(X_test)\n",
    "mse(y_test, y_pred, squared=False) "
   ]
  },
  {
   "cell_type": "markdown",
   "id": "c225a591",
   "metadata": {},
   "source": [
    "### Conclusiones\n",
    "Tras obesarvar los errores cuadraticos, las correlaciones, el EDA, los gráficos y las predicciones, observo que el Df esta carente de ciertos datos que son indispensables para modelos de predicción del precio de los inmuebles, como por ejemplo distancia con la playa, el aeropuerto y el centro. Ademas debido a la ciudad que estamos estudiando hay muchos datos que no estan bien definidos y otros que se desconocen debido a su ingreso reciente en el primer mundo. El siguiente paso para la fase 2 del proyecto seria: definir bien las areas mediante programas de geolocalizacion vía latitud, longitud. Hacer codigos binarios respecto a su cercania a los puntos significativos y seguir extrayendo datos para ir actualizando la información."
   ]
  },
  {
   "cell_type": "code",
   "execution_count": null,
   "id": "d471658a",
   "metadata": {},
   "outputs": [],
   "source": []
  }
 ],
 "metadata": {
  "kernelspec": {
   "display_name": "Python 3 (ipykernel)",
   "language": "python",
   "name": "python3"
  },
  "language_info": {
   "codemirror_mode": {
    "name": "ipython",
    "version": 3
   },
   "file_extension": ".py",
   "mimetype": "text/x-python",
   "name": "python",
   "nbconvert_exporter": "python",
   "pygments_lexer": "ipython3",
   "version": "3.11.5"
  }
 },
 "nbformat": 4,
 "nbformat_minor": 5
}
